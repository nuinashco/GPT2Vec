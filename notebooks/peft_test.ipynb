{
 "cells": [
  {
   "cell_type": "code",
   "execution_count": 1,
   "id": "dca38daf-371c-440c-aa6a-b046a010658a",
   "metadata": {},
   "outputs": [],
   "source": [
    "from peft import get_peft_model, LoraConfig, TaskType\n",
    "from src.models import MODELS_MAPPING\n",
    "from transformers import AutoConfig, AutoModelForCausalLM\n",
    "\n",
    "import torch"
   ]
  },
  {
   "cell_type": "code",
   "execution_count": 2,
   "id": "06f3cbfe-5111-4f07-821b-95e960df8d59",
   "metadata": {},
   "outputs": [],
   "source": [
    "model_class = MODELS_MAPPING.get(\n",
    "    \"llama\", {}\n",
    "    ).get(\"mntp\")"
   ]
  },
  {
   "cell_type": "code",
   "execution_count": 3,
   "id": "efe947c5-6681-479d-b61a-2bc530e77706",
   "metadata": {},
   "outputs": [
    {
     "data": {
      "text/plain": [
       "src.models.llama.biLlamaForMaskedNTP"
      ]
     },
     "execution_count": 3,
     "metadata": {},
     "output_type": "execute_result"
    }
   ],
   "source": [
    "model_class"
   ]
  },
  {
   "cell_type": "code",
   "execution_count": 4,
   "id": "08fec29e-de50-4a17-befb-dc5eee0f2f10",
   "metadata": {},
   "outputs": [
    {
     "data": {
      "application/vnd.jupyter.widget-view+json": {
       "model_id": "3e3b4d39398a40f9874fb1c32eab7bf0",
       "version_major": 2,
       "version_minor": 0
      },
      "text/plain": [
       "Loading checkpoint shards:   0%|          | 0/2 [00:00<?, ?it/s]"
      ]
     },
     "metadata": {},
     "output_type": "display_data"
    }
   ],
   "source": [
    "# PRETRAINED_MODEL = \"google/gemma-2-2b-it\"\n",
    "PRETRAINED_MODEL = \"meta-llama/Llama-3.2-3B\"\n",
    "\n",
    "config = AutoConfig.from_pretrained(PRETRAINED_MODEL)\n",
    "model = AutoModelForCausalLM.from_pretrained(\n",
    "# model = model_class.from_pretrained(\n",
    "    PRETRAINED_MODEL,\n",
    "    torch_dtype=torch.float16,\n",
    ").to('cuda')"
   ]
  },
  {
   "cell_type": "code",
   "execution_count": 5,
   "id": "7d542cad-f5e1-494d-85c0-a7c2fb056d35",
   "metadata": {},
   "outputs": [],
   "source": [
    "from src.metrics.attention_geometry.scores import get_scores"
   ]
  },
  {
   "cell_type": "code",
   "execution_count": 9,
   "id": "5cd1202d-48e7-4994-a546-956194872a8a",
   "metadata": {},
   "outputs": [
    {
     "data": {
      "text/plain": [
       "torch.Size([3072, 3072])"
      ]
     },
     "execution_count": 9,
     "metadata": {},
     "output_type": "execute_result"
    }
   ],
   "source": [
    "models['Llama'][-1][0].shape"
   ]
  },
  {
   "cell_type": "code",
   "execution_count": null,
   "id": "8d3f3252-b051-439b-9e6d-331842731b9b",
   "metadata": {},
   "outputs": [],
   "source": []
  },
  {
   "cell_type": "code",
   "execution_count": null,
   "id": "8bd47697-6800-4d3d-87d7-28ffc363bcab",
   "metadata": {},
   "outputs": [],
   "source": []
  },
  {
   "cell_type": "code",
   "execution_count": 1,
   "id": "6fd905b0-a727-45f9-8f28-b7ba2e04adb0",
   "metadata": {},
   "outputs": [],
   "source": [
    "import pickle\n",
    "from accelerate import init_empty_weights\n",
    "\n",
    "from transformers import LlamaConfig, LlamaForCausalLM\n",
    "from src.metrics.attention_geometry.scores import get_scores\n",
    "from transformers import AutoConfig, AutoModelForCausalLM, AutoModelForTokenClassification\n",
    "\n",
    "\n",
    "models = {}\n",
    "path = [\"model.layers.\", \n",
    "        \".self_attn.q_proj.weight\", \n",
    "        \".self_attn.k_proj.weight\"]\n",
    "\n",
    "# path = [\"deberta.encoder.layer[\", \n",
    "#         \"].attention.self.query_proj.weight\",\n",
    "#         \"].attention.self.key_proj.weight\"]"
   ]
  },
  {
   "cell_type": "code",
   "execution_count": 2,
   "id": "6c746eed-124c-44aa-901a-4983d2d42480",
   "metadata": {},
   "outputs": [
    {
     "data": {
      "application/vnd.jupyter.widget-view+json": {
       "model_id": "e42d787dd59c4774b3cb606233802e0a",
       "version_major": 2,
       "version_minor": 0
      },
      "text/plain": [
       "Loading checkpoint shards:   0%|          | 0/2 [00:00<?, ?it/s]"
      ]
     },
     "metadata": {},
     "output_type": "display_data"
    },
    {
     "name": "stdout",
     "output_type": "stream",
     "text": [
      "100% processing layer 28/28"
     ]
    }
   ],
   "source": [
    "model_name = \"meta-llama/Llama-3.2-3B\"\n",
    "# model_name = \"meta-llama/Llama-3.2-3B\"\n",
    "\n",
    "config =  AutoConfig.from_pretrained(model_name)\n",
    "model = AutoModelForCausalLM.from_pretrained(model_name).to(\"cuda\")\n",
    "\n",
    "\n",
    "models = get_scores(models,\n",
    "                    model_name, model, config,\n",
    "                    path, download_model = False,\n",
    "                    attn_type = 'grouped-attention')"
   ]
  },
  {
   "cell_type": "code",
   "execution_count": 3,
   "id": "3f95a756-c99b-4fe6-89b5-d3d239d5cbb7",
   "metadata": {},
   "outputs": [
    {
     "data": {
      "text/plain": [
       "{'meta-llama/Llama-3.2-3B': [LlamaConfig {\n",
       "    \"architectures\": [\n",
       "      \"LlamaForCausalLM\"\n",
       "    ],\n",
       "    \"attention_bias\": false,\n",
       "    \"attention_dropout\": 0.0,\n",
       "    \"bos_token_id\": 128000,\n",
       "    \"eos_token_id\": 128001,\n",
       "    \"head_dim\": 128,\n",
       "    \"hidden_act\": \"silu\",\n",
       "    \"hidden_size\": 3072,\n",
       "    \"initializer_range\": 0.02,\n",
       "    \"intermediate_size\": 8192,\n",
       "    \"max_position_embeddings\": 131072,\n",
       "    \"mlp_bias\": false,\n",
       "    \"model_type\": \"llama\",\n",
       "    \"num_attention_heads\": 24,\n",
       "    \"num_hidden_layers\": 28,\n",
       "    \"num_key_value_heads\": 8,\n",
       "    \"pretraining_tp\": 1,\n",
       "    \"rms_norm_eps\": 1e-05,\n",
       "    \"rope_scaling\": {\n",
       "      \"factor\": 32.0,\n",
       "      \"high_freq_factor\": 4.0,\n",
       "      \"low_freq_factor\": 1.0,\n",
       "      \"original_max_position_embeddings\": 8192,\n",
       "      \"rope_type\": \"llama3\"\n",
       "    },\n",
       "    \"rope_theta\": 500000.0,\n",
       "    \"tie_word_embeddings\": true,\n",
       "    \"torch_dtype\": \"bfloat16\",\n",
       "    \"transformers_version\": \"4.51.3\",\n",
       "    \"use_cache\": true,\n",
       "    \"vocab_size\": 128256\n",
       "  },\n",
       "  array([0.50665849, 0.50684303, 0.50390255, 0.50499028, 0.5103485 ,\n",
       "         0.50083882, 0.51014644, 0.51207507, 0.52902067, 0.51263517,\n",
       "         0.52403551, 0.50199729, 0.51080608, 0.51142842, 0.50458193,\n",
       "         0.50533909, 0.50230747, 0.50954223, 0.50667524, 0.50466955,\n",
       "         0.50140864, 0.50145191, 0.50137925, 0.50638014, 0.50300771,\n",
       "         0.50203633, 0.51222736, 0.50287652]),\n",
       "  array([0.14320505, 0.54318583, 0.49994332, 0.39465261, 0.38362601,\n",
       "         0.73655343, 0.59453303, 0.64405131, 0.81868243, 0.79304552,\n",
       "         0.77485073, 0.49681169, 0.91420639, 0.84764296, 0.73286116,\n",
       "         0.78896064, 0.82575035, 0.76942277, 0.74850112, 0.75133079,\n",
       "         0.71256256, 0.69680804, 0.51636529, 0.46734408, 0.71789253,\n",
       "         0.34576288, 0.44451973, 0.4291555 ]),\n",
       "  [3212749824, 3212749824]]}"
      ]
     },
     "execution_count": 3,
     "metadata": {},
     "output_type": "execute_result"
    }
   ],
   "source": [
    "models"
   ]
  },
  {
   "cell_type": "code",
   "execution_count": 4,
   "id": "8b98027a-7818-4e85-946c-020d0e5fc7f0",
   "metadata": {},
   "outputs": [
    {
     "data": {
      "text/plain": [
       "array([0.01331699, 0.01368606, 0.00780511, 0.00998056, 0.020697  ,\n",
       "       0.00167763, 0.02029288, 0.02415013, 0.05804133, 0.02527034,\n",
       "       0.04807103, 0.00399458, 0.02161217, 0.02285683, 0.00916386,\n",
       "       0.01067817, 0.00461495, 0.01908445, 0.01335049, 0.00933909,\n",
       "       0.00281727, 0.00290382, 0.0027585 , 0.01276028, 0.00601542,\n",
       "       0.00407267, 0.02445471, 0.00575304])"
      ]
     },
     "execution_count": 4,
     "metadata": {},
     "output_type": "execute_result"
    }
   ],
   "source": [
    "2 * models[model_name][-3] - 1"
   ]
  },
  {
   "cell_type": "code",
   "execution_count": null,
   "id": "2c326107-9aed-4956-b097-574697fd5d45",
   "metadata": {},
   "outputs": [],
   "source": []
  }
 ],
 "metadata": {
  "kernelspec": {
   "display_name": "Python3 (main venv)",
   "language": "python",
   "name": "main"
  },
  "language_info": {
   "codemirror_mode": {
    "name": "ipython",
    "version": 3
   },
   "file_extension": ".py",
   "mimetype": "text/x-python",
   "name": "python",
   "nbconvert_exporter": "python",
   "pygments_lexer": "ipython3",
   "version": "3.10.12"
  }
 },
 "nbformat": 4,
 "nbformat_minor": 5
}
