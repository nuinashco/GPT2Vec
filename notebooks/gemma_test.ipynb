{
 "cells": [
  {
   "cell_type": "code",
   "execution_count": 1,
   "id": "22cf7074-8f48-4159-81e4-1adbbaed901a",
   "metadata": {},
   "outputs": [],
   "source": [
    "from src.models.gemma3 import biGemma3ForMaskedLM, biGemma3ForMaskedNTP, biGemma3ForTokenClassification, Gemma3ForCausalLM"
   ]
  },
  {
   "cell_type": "code",
   "execution_count": 5,
   "id": "dbf06629-e7ee-4d4f-a91d-4e020f7334ab",
   "metadata": {},
   "outputs": [
    {
     "data": {
      "application/vnd.jupyter.widget-view+json": {
       "model_id": "9431452c73c8424289896fa1f838c5fb",
       "version_major": 2,
       "version_minor": 0
      },
      "text/plain": [
       "Loading checkpoint shards:   0%|          | 0/2 [00:00<?, ?it/s]"
      ]
     },
     "metadata": {},
     "output_type": "display_data"
    },
    {
     "name": "stderr",
     "output_type": "stream",
     "text": [
      "Some weights of biGemma3ForTokenClassification were not initialized from the model checkpoint at google/gemma-3-4b-pt and are newly initialized: ['score.bias', 'score.weight']\n",
      "You should probably TRAIN this model on a down-stream task to be able to use it for predictions and inference.\n"
     ]
    }
   ],
   "source": [
    "model = biGemma3ForTokenClassification.from_pretrained(\"google/gemma-3-4b-pt\")"
   ]
  },
  {
   "cell_type": "code",
   "execution_count": null,
   "id": "fc6f45fc-d84e-4cf1-9b2a-ddeae693a0d9",
   "metadata": {},
   "outputs": [],
   "source": []
  }
 ],
 "metadata": {
  "kernelspec": {
   "display_name": "Python3 (main venv)",
   "language": "python",
   "name": "main"
  },
  "language_info": {
   "codemirror_mode": {
    "name": "ipython",
    "version": 3
   },
   "file_extension": ".py",
   "mimetype": "text/x-python",
   "name": "python",
   "nbconvert_exporter": "python",
   "pygments_lexer": "ipython3",
   "version": "3.10.12"
  }
 },
 "nbformat": 4,
 "nbformat_minor": 5
}
