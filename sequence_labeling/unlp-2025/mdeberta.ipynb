{
 "cells": [
  {
   "cell_type": "markdown",
   "metadata": {},
   "source": [
    "# Setup"
   ]
  },
  {
   "cell_type": "code",
   "execution_count": 1,
   "metadata": {
    "execution": {
     "iopub.execute_input": "2025-03-29T01:01:11.045506Z",
     "iopub.status.busy": "2025-03-29T01:01:11.045148Z",
     "iopub.status.idle": "2025-03-29T01:01:32.605370Z",
     "shell.execute_reply": "2025-03-29T01:01:32.604682Z",
     "shell.execute_reply.started": "2025-03-29T01:01:11.045471Z"
    },
    "trusted": true
   },
   "outputs": [
    {
     "name": "stderr",
     "output_type": "stream",
     "text": [
      "<ipython-input-1-3269468de881>:2: TqdmWarning: IProgress not found. Please update jupyter and ipywidgets. See https://ipywidgets.readthedocs.io/en/stable/user_install.html\n",
      "  from tqdm.autonotebook import tqdm\n"
     ]
    }
   ],
   "source": [
    "from dataclasses import dataclass\n",
    "from tqdm.autonotebook import tqdm\n",
    "from utils.utils import set_seeds\n",
    "import wandb\n",
    "\n",
    "import numpy as np\n",
    "import torch\n",
    "from datasets import Dataset\n",
    "from transformers import (\n",
    "    AutoModelForTokenClassification,\n",
    "    AutoTokenizer,\n",
    "    TrainingArguments\n",
    ")\n",
    "\n",
    "set_seeds(seed=42)\n",
    "tqdm.pandas()"
   ]
  },
  {
   "cell_type": "code",
   "execution_count": null,
   "metadata": {},
   "outputs": [],
   "source": [
    "%env WANDB_LOG_MODEL=\"checkpoint\""
   ]
  },
  {
   "cell_type": "markdown",
   "metadata": {},
   "source": [
    "# Config"
   ]
  },
  {
   "cell_type": "code",
   "execution_count": null,
   "metadata": {
    "execution": {
     "iopub.execute_input": "2025-03-29T01:01:32.607279Z",
     "iopub.status.busy": "2025-03-29T01:01:32.606659Z",
     "iopub.status.idle": "2025-03-29T01:01:32.961942Z",
     "shell.execute_reply": "2025-03-29T01:01:32.961025Z",
     "shell.execute_reply.started": "2025-03-29T01:01:32.607255Z"
    },
    "trusted": true
   },
   "outputs": [],
   "source": [
    "@dataclass\n",
    "class Config:\n",
    "    data_path: str = \"../../data/unlp25/\"\n",
    "    cv_path: str = \"../../data/unlp25/cv_split.csv\"\n",
    "    \n",
    "    pretrained: str = \"microsoft/mdeberta-v3-base\"\n",
    "    max_length: int = 512\n",
    "\n",
    "    \n",
    "    wandb_init_args = {\n",
    "        'project': \"sl-unlp-2025\",\n",
    "        'entity': \"havlytskyi-thesis\",\n",
    "        'name': \"mdeberta-v3-base\"\n",
    "    }\n",
    "\n",
    "config = Config()"
   ]
  },
  {
   "cell_type": "markdown",
   "metadata": {},
   "source": [
    "# Training Arguments"
   ]
  },
  {
   "cell_type": "code",
   "execution_count": null,
   "metadata": {
    "execution": {
     "iopub.execute_input": "2025-03-29T01:01:47.445950Z",
     "iopub.status.busy": "2025-03-29T01:01:47.445737Z",
     "iopub.status.idle": "2025-03-29T01:01:47.500412Z",
     "shell.execute_reply": "2025-03-29T01:01:47.499761Z",
     "shell.execute_reply.started": "2025-03-29T01:01:47.445931Z"
    },
    "trusted": true
   },
   "outputs": [],
   "source": [
    "training_args = TrainingArguments(\n",
    "    output_dir=f'./checkpoints/{config.wandb_init_args[\"name\"]}',\n",
    "    logging_dir=f'./logs/{config.wandb_init_args[\"name\"]}',\n",
    "    learning_rate=2e-5,\n",
    "    weight_decay=0.01,\n",
    "    lr_scheduler_type='cosine',\n",
    "    warmup_ratio=0.0,\n",
    "    num_train_epochs=5,\n",
    "    per_device_train_batch_size=8,\n",
    "    per_device_eval_batch_size=2,\n",
    "    gradient_accumulation_steps=2,\n",
    "    #bf16=True,\n",
    "    report_to=\"wandb\",\n",
    "    optim='adamw_torch',\n",
    "    eval_strategy='steps',\n",
    "    save_strategy=\"steps\",\n",
    "    eval_steps=100,\n",
    "    logging_steps=10,\n",
    "    save_steps=100,\n",
    "    save_total_limit=10,\n",
    "    metric_for_best_model='eval_f1',\n",
    "    greater_is_better=True,\n",
    "    load_best_model_at_end=True,\n",
    ")"
   ]
  },
  {
   "cell_type": "markdown",
   "metadata": {},
   "source": [
    "# Instantiate the tokenizer & model"
   ]
  },
  {
   "cell_type": "code",
   "execution_count": 8,
   "metadata": {
    "execution": {
     "iopub.execute_input": "2025-03-29T01:01:47.501589Z",
     "iopub.status.busy": "2025-03-29T01:01:47.501364Z",
     "iopub.status.idle": "2025-03-29T01:02:06.890915Z",
     "shell.execute_reply": "2025-03-29T01:02:06.890198Z",
     "shell.execute_reply.started": "2025-03-29T01:01:47.501569Z"
    },
    "trusted": true
   },
   "outputs": [
    {
     "data": {
      "application/vnd.jupyter.widget-view+json": {
       "model_id": "ae46c6bca3fd41dd930be7d65bae10fe",
       "version_major": 2,
       "version_minor": 0
      },
      "text/plain": [
       "tokenizer_config.json:   0%|          | 0.00/52.0 [00:00<?, ?B/s]"
      ]
     },
     "metadata": {},
     "output_type": "display_data"
    },
    {
     "data": {
      "application/vnd.jupyter.widget-view+json": {
       "model_id": "2f60ff982bf04828b80120d46db8197d",
       "version_major": 2,
       "version_minor": 0
      },
      "text/plain": [
       "config.json:   0%|          | 0.00/579 [00:00<?, ?B/s]"
      ]
     },
     "metadata": {},
     "output_type": "display_data"
    },
    {
     "data": {
      "application/vnd.jupyter.widget-view+json": {
       "model_id": "467b4b30d2154915826d4d1806ed9386",
       "version_major": 2,
       "version_minor": 0
      },
      "text/plain": [
       "spm.model:   0%|          | 0.00/4.31M [00:00<?, ?B/s]"
      ]
     },
     "metadata": {},
     "output_type": "display_data"
    },
    {
     "name": "stderr",
     "output_type": "stream",
     "text": [
      "/usr/local/lib/python3.10/dist-packages/transformers/convert_slow_tokenizer.py:559: UserWarning: The sentencepiece tokenizer that you are converting to a fast tokenizer uses the byte fallback option which is not implemented in the fast tokenizers. In practice this means that the fast version of the tokenizer can produce unknown tokens whereas the sentencepiece version would have converted these unknown tokens into a sequence of byte tokens matching the original piece of text.\n",
      "  warnings.warn(\n"
     ]
    },
    {
     "data": {
      "application/vnd.jupyter.widget-view+json": {
       "model_id": "7140555b989e49baac053744c007c301",
       "version_major": 2,
       "version_minor": 0
      },
      "text/plain": [
       "pytorch_model.bin:   0%|          | 0.00/1.33G [00:00<?, ?B/s]"
      ]
     },
     "metadata": {},
     "output_type": "display_data"
    },
    {
     "data": {
      "application/vnd.jupyter.widget-view+json": {
       "model_id": "383b4302929447adb02d237c7339ba54",
       "version_major": 2,
       "version_minor": 0
      },
      "text/plain": [
       "model.safetensors:   0%|          | 0.00/1.33G [00:00<?, ?B/s]"
      ]
     },
     "metadata": {},
     "output_type": "display_data"
    },
    {
     "name": "stderr",
     "output_type": "stream",
     "text": [
      "Some weights of DebertaV2ForTokenClassification were not initialized from the model checkpoint at microsoft/mdeberta-v3-base and are newly initialized: ['classifier.bias', 'classifier.weight']\n",
      "You should probably TRAIN this model on a down-stream task to be able to use it for predictions and inference.\n"
     ]
    }
   ],
   "source": [
    "tokenizer = AutoTokenizer.from_pretrained(config.pretrained)\n",
    "\n",
    "model = AutoModelForTokenClassification.from_pretrained(\n",
    "    config.pretrained,\n",
    "    id2label={0: 0, 1: 1},\n",
    "    label2id={0: 0, 1: 1},\n",
    ")"
   ]
  },
  {
   "cell_type": "markdown",
   "metadata": {},
   "source": [
    "# Data"
   ]
  },
  {
   "cell_type": "code",
   "execution_count": 9,
   "metadata": {
    "execution": {
     "iopub.execute_input": "2025-03-29T01:02:06.892428Z",
     "iopub.status.busy": "2025-03-29T01:02:06.892117Z",
     "iopub.status.idle": "2025-03-29T01:02:07.254883Z",
     "shell.execute_reply": "2025-03-29T01:02:07.253899Z",
     "shell.execute_reply.started": "2025-03-29T01:02:06.892405Z"
    },
    "trusted": true
   },
   "outputs": [],
   "source": [
    "import pandas as pd\n",
    "\n",
    "df = pd.read_parquet(config.data_path + \"train.parquet\")\n",
    "cv = pd.read_csv(config.cv_path)\n",
    "df = df.merge(cv, on='id', how='left')\n",
    "\n",
    "df_test = pd.read_csv(config.data_path + \"test.csv\")"
   ]
  },
  {
   "cell_type": "code",
   "execution_count": null,
   "metadata": {
    "execution": {
     "iopub.execute_input": "2025-03-29T01:02:07.267098Z",
     "iopub.status.busy": "2025-03-29T01:02:07.266431Z",
     "iopub.status.idle": "2025-03-29T01:02:18.781773Z",
     "shell.execute_reply": "2025-03-29T01:02:18.780421Z",
     "shell.execute_reply.started": "2025-03-29T01:02:07.267074Z"
    },
    "trusted": true
   },
   "outputs": [
    {
     "data": {
      "application/vnd.jupyter.widget-view+json": {
       "model_id": "d876155c82324105b18bec47895c3fbe",
       "version_major": 2,
       "version_minor": 0
      },
      "text/plain": [
       "  0%|          | 0/3058 [00:00<?, ?it/s]"
      ]
     },
     "metadata": {},
     "output_type": "display_data"
    },
    {
     "data": {
      "application/vnd.jupyter.widget-view+json": {
       "model_id": "f6c08694adb74df497d400ccbfe37f03",
       "version_major": 2,
       "version_minor": 0
      },
      "text/plain": [
       "  0%|          | 0/764 [00:00<?, ?it/s]"
      ]
     },
     "metadata": {},
     "output_type": "display_data"
    },
    {
     "data": {
      "application/vnd.jupyter.widget-view+json": {
       "model_id": "921df2aa500946828cab197a823747a9",
       "version_major": 2,
       "version_minor": 0
      },
      "text/plain": [
       "  0%|          | 0/5735 [00:00<?, ?it/s]"
      ]
     },
     "metadata": {},
     "output_type": "display_data"
    }
   ],
   "source": [
    "from utils.data import preprocess_df\n",
    "\n",
    "df.trigger_words = df.trigger_words.apply(lambda x: [] if x is None else x)\n",
    "\n",
    "is_valid_mask = (df.fold == 4)\n",
    "df_train = df[~is_valid_mask].copy()\n",
    "df_valid = df[is_valid_mask].copy()\n",
    "\n",
    "\n",
    "df_train = preprocess_df(df_train, tokenizer=tokenizer, max_length=config.max_length)\n",
    "df_valid = preprocess_df(df_valid, tokenizer=tokenizer, max_length=None)\n",
    "df_test = preprocess_df(df_test, tokenizer=tokenizer, max_length=None)"
   ]
  },
  {
   "cell_type": "code",
   "execution_count": 12,
   "metadata": {
    "execution": {
     "iopub.execute_input": "2025-03-29T01:02:18.783783Z",
     "iopub.status.busy": "2025-03-29T01:02:18.783429Z",
     "iopub.status.idle": "2025-03-29T01:02:20.672357Z",
     "shell.execute_reply": "2025-03-29T01:02:20.671384Z",
     "shell.execute_reply.started": "2025-03-29T01:02:18.783751Z"
    },
    "trusted": true
   },
   "outputs": [],
   "source": [
    "train_columns = list(df_train.seq_labels.iloc[0].keys()) +\\\n",
    "                ['content', 'trigger_words']\n",
    "test_columns = list(df_train.seq_labels.iloc[0].keys()) + ['content']\n",
    "\n",
    "ds_train = Dataset.from_pandas(df_train[train_columns].reset_index(drop=True))\n",
    "ds_valid = Dataset.from_pandas(df_valid[train_columns].reset_index(drop=True))\n",
    "ds_test = Dataset.from_pandas(df_test[test_columns].reset_index(drop=True))"
   ]
  },
  {
   "cell_type": "markdown",
   "metadata": {},
   "source": [
    "# Train"
   ]
  },
  {
   "cell_type": "code",
   "execution_count": null,
   "metadata": {
    "execution": {
     "iopub.status.busy": "2025-03-29T01:00:07.194357Z",
     "iopub.status.idle": "2025-03-29T01:00:07.194593Z",
     "shell.execute_reply": "2025-03-29T01:00:07.194496Z"
    },
    "trusted": true
   },
   "outputs": [],
   "source": [
    "from itertools import chain\n",
    "\n",
    "train_labels = df_train.labels.tolist() + df_valid.labels.tolist()\n",
    "positive_class_balance = pd.Series(list(chain(*train_labels))).mean()\n",
    "\n",
    "positive_class_balance"
   ]
  },
  {
   "cell_type": "code",
   "execution_count": null,
   "metadata": {
    "execution": {
     "iopub.status.busy": "2025-03-29T01:00:07.195920Z",
     "iopub.status.idle": "2025-03-29T01:00:07.196163Z",
     "shell.execute_reply": "2025-03-29T01:00:07.196060Z"
    },
    "trusted": true
   },
   "outputs": [],
   "source": [
    "from transformers import DataCollatorForTokenClassification\n",
    "from utils.trainer import SpanIdentificationTrainer\n",
    "\n",
    "data_collator = DataCollatorForTokenClassification(tokenizer=tokenizer)\n",
    "\n",
    "trainer = SpanIdentificationTrainer(\n",
    "    model=model,\n",
    "    args=training_args,\n",
    "    train_dataset=ds_train,\n",
    "    eval_dataset=ds_valid,\n",
    "    data_collator=data_collator,\n",
    "    tokenizer=tokenizer,\n",
    "    desired_positive_ratio=positive_class_balance\n",
    ")"
   ]
  },
  {
   "cell_type": "code",
   "execution_count": null,
   "metadata": {
    "execution": {
     "iopub.status.busy": "2025-03-29T01:00:07.196808Z",
     "iopub.status.idle": "2025-03-29T01:00:07.197062Z",
     "shell.execute_reply": "2025-03-29T01:00:07.196955Z"
    },
    "trusted": true
   },
   "outputs": [],
   "source": [
    "with wandb.init(**config.wandb_init_args):\n",
    "    trainer.train()"
   ]
  },
  {
   "cell_type": "markdown",
   "metadata": {},
   "source": [
    "# Inference"
   ]
  },
  {
   "cell_type": "markdown",
   "metadata": {},
   "source": [
    "## Checkpoint"
   ]
  },
  {
   "cell_type": "code",
   "execution_count": null,
   "metadata": {
    "execution": {
     "iopub.execute_input": "2025-02-27T23:11:03.442396Z",
     "iopub.status.busy": "2025-02-27T23:11:03.442075Z",
     "iopub.status.idle": "2025-02-27T23:11:03.446856Z",
     "shell.execute_reply": "2025-02-27T23:11:03.446001Z",
     "shell.execute_reply.started": "2025-02-27T23:11:03.442372Z"
    },
    "trusted": true
   },
   "outputs": [],
   "source": [
    "from utils.metric import score as char_f1\n",
    "from utils.utils import inference_aggregation\n",
    "\n",
    "FINETUNED_MODEL = '/kaggle/working/model_checkpoints_mdeberta-v3-base/checkpoint-500'"
   ]
  },
  {
   "cell_type": "code",
   "execution_count": 16,
   "metadata": {
    "execution": {
     "iopub.execute_input": "2025-02-27T23:11:12.122278Z",
     "iopub.status.busy": "2025-02-27T23:11:12.121978Z",
     "iopub.status.idle": "2025-02-27T23:11:12.499653Z",
     "shell.execute_reply": "2025-02-27T23:11:12.498761Z",
     "shell.execute_reply.started": "2025-02-27T23:11:12.122256Z"
    },
    "trusted": true
   },
   "outputs": [],
   "source": [
    "trainer._load_from_checkpoint(FINETUNED_MODEL)"
   ]
  },
  {
   "cell_type": "markdown",
   "metadata": {},
   "source": [
    "## Threshold Selection"
   ]
  },
  {
   "cell_type": "code",
   "execution_count": null,
   "metadata": {
    "execution": {
     "iopub.execute_input": "2025-02-27T23:11:19.441203Z",
     "iopub.status.busy": "2025-02-27T23:11:19.440863Z",
     "iopub.status.idle": "2025-02-27T23:11:55.714088Z",
     "shell.execute_reply": "2025-02-27T23:11:55.713278Z",
     "shell.execute_reply.started": "2025-02-27T23:11:19.441177Z"
    },
    "trusted": true
   },
   "outputs": [
    {
     "data": {
      "application/vnd.jupyter.widget-view+json": {
       "model_id": "2a8fcd4129144cd995d8e1a75e289278",
       "version_major": 2,
       "version_minor": 0
      },
      "text/plain": [
       "  0%|          | 0/1 [00:00<?, ?it/s]"
      ]
     },
     "metadata": {},
     "output_type": "display_data"
    }
   ],
   "source": [
    "valid_preds = trainer.predict(ds_valid)\n",
    "trainer.compute_metrics((valid_preds.predictions, valid_preds.label_ids))"
   ]
  },
  {
   "cell_type": "code",
   "execution_count": null,
   "metadata": {
    "execution": {
     "iopub.execute_input": "2025-02-27T23:12:15.732282Z",
     "iopub.status.busy": "2025-02-27T23:12:15.732054Z",
     "iopub.status.idle": "2025-02-27T23:18:57.298180Z",
     "shell.execute_reply": "2025-02-27T23:18:57.297393Z",
     "shell.execute_reply.started": "2025-02-27T23:12:15.732261Z"
    },
    "trusted": true
   },
   "outputs": [
    {
     "data": {
      "application/vnd.jupyter.widget-view+json": {
       "model_id": "4036ee9b874b41a0b3c38f62f2bc101e",
       "version_major": 2,
       "version_minor": 0
      },
      "text/plain": [
       "  0%|          | 0/1 [00:00<?, ?it/s]"
      ]
     },
     "metadata": {},
     "output_type": "display_data"
    },
    {
     "data": {
      "text/plain": [
       "0.44555555555555554"
      ]
     },
     "execution_count": 19,
     "metadata": {},
     "output_type": "execute_result"
    }
   ],
   "source": [
    "from utils.utils import find_class_balance_threshold\n",
    "\n",
    "test_preds = trainer.predict(ds_test)\n",
    "test_probabilities = torch.softmax(torch.tensor(test_preds.predictions), dim=-1).cpu().numpy()\n",
    "\n",
    "find_class_balance_threshold(\n",
    "    desired_positive_ratio=positive_class_balance,\n",
    "    test_probabilities=test_probabilities,\n",
    "    test_labels=test_preds.label_ids\n",
    "    )"
   ]
  },
  {
   "cell_type": "code",
   "execution_count": null,
   "metadata": {
    "execution": {
     "iopub.execute_input": "2025-02-27T23:21:41.606448Z",
     "iopub.status.busy": "2025-02-27T23:21:41.606155Z",
     "iopub.status.idle": "2025-02-27T23:21:41.612423Z",
     "shell.execute_reply": "2025-02-27T23:21:41.611555Z",
     "shell.execute_reply.started": "2025-02-27T23:21:41.606425Z"
    },
    "trusted": true
   },
   "outputs": [
    {
     "data": {
      "text/plain": [
       "0.265325"
      ]
     },
     "execution_count": 48,
     "metadata": {},
     "output_type": "execute_result"
    }
   ],
   "source": [
    "# (val_argmax + test_distribution) / 2\n",
    "final_th = (0.48515 + 0.4455)/2 - 0.2\n",
    "final_th"
   ]
  },
  {
   "cell_type": "markdown",
   "metadata": {},
   "source": [
    "## CV-Score"
   ]
  },
  {
   "cell_type": "code",
   "execution_count": null,
   "metadata": {
    "execution": {
     "iopub.execute_input": "2025-02-27T23:23:01.816908Z",
     "iopub.status.busy": "2025-02-27T23:23:01.816573Z",
     "iopub.status.idle": "2025-02-27T23:23:02.907677Z",
     "shell.execute_reply": "2025-02-27T23:23:02.906996Z",
     "shell.execute_reply.started": "2025-02-27T23:23:01.816879Z"
    },
    "trusted": true
   },
   "outputs": [],
   "source": [
    "valid_probabilities = torch.softmax(torch.tensor(valid_preds.predictions), dim=-1).cpu().numpy()\n",
    "valid_results = inference_aggregation(\n",
    "    probabilities=valid_probabilities,\n",
    "    labels=valid_preds.label_ids,\n",
    "    offset_mapping=ds_valid['offset_mapping'],\n",
    "    threshold=final_th\n",
    ")"
   ]
  },
  {
   "cell_type": "code",
   "execution_count": null,
   "metadata": {},
   "outputs": [],
   "source": [
    "from copy import deepcopy\n",
    "\n",
    "df_gt = df[df.fold==4][['id', 'trigger_words']].reset_index(drop=True)\n",
    "df_pred = deepcopy(df_gt)\n",
    "df_pred['trigger_words'] = valid_results\n",
    "\n",
    "cv_score = char_f1(df_gt, df_pred, row_id_column_name='id')\n",
    "cv_score"
   ]
  },
  {
   "cell_type": "markdown",
   "metadata": {},
   "source": [
    "## Predict Test"
   ]
  },
  {
   "cell_type": "code",
   "execution_count": null,
   "metadata": {
    "execution": {
     "iopub.execute_input": "2025-02-27T23:25:58.107935Z",
     "iopub.status.busy": "2025-02-27T23:25:58.107523Z",
     "iopub.status.idle": "2025-02-27T23:25:58.124367Z",
     "shell.execute_reply": "2025-02-27T23:25:58.123642Z",
     "shell.execute_reply.started": "2025-02-27T23:25:58.107889Z"
    },
    "trusted": true
   },
   "outputs": [],
   "source": [
    "exp_name = config.wandb_init_args['name']\n",
    "df_pred.to_csv(f\"{exp_name}-cv{cv_score:.3f}.csv\")"
   ]
  },
  {
   "cell_type": "code",
   "execution_count": null,
   "metadata": {},
   "outputs": [],
   "source": [
    "# TODO: Add kaggle submission"
   ]
  }
 ],
 "metadata": {
  "kaggle": {
   "accelerator": "gpu",
   "dataSources": [
    {
     "databundleVersionId": 10931355,
     "sourceId": 89664,
     "sourceType": "competition"
    },
    {
     "datasetId": 6604871,
     "sourceId": 10664686,
     "sourceType": "datasetVersion"
    }
   ],
   "dockerImageVersionId": 30918,
   "isGpuEnabled": true,
   "isInternetEnabled": true,
   "language": "python",
   "sourceType": "notebook"
  },
  "kernelspec": {
   "display_name": ".venv",
   "language": "python",
   "name": "python3"
  },
  "language_info": {
   "codemirror_mode": {
    "name": "ipython",
    "version": 3
   },
   "file_extension": ".py",
   "mimetype": "text/x-python",
   "name": "python",
   "nbconvert_exporter": "python",
   "pygments_lexer": "ipython3",
   "version": "3.10.12"
  }
 },
 "nbformat": 4,
 "nbformat_minor": 4
}
