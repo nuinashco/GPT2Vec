{
 "cells": [
  {
   "cell_type": "code",
   "execution_count": null,
   "id": "124fdbd8",
   "metadata": {},
   "outputs": [],
   "source": [
    "# from src.models import "
   ]
  }
 ],
 "metadata": {
  "kernelspec": {
   "display_name": ".venv",
   "language": "python",
   "name": "python3"
  },
  "language_info": {
   "name": "python",
   "version": "3.10.7"
  }
 },
 "nbformat": 4,
 "nbformat_minor": 5
}
