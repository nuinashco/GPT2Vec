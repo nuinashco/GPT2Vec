{
 "cells": [
  {
   "cell_type": "code",
   "execution_count": 1,
   "id": "0349ac3f",
   "metadata": {
    "ExecuteTime": {
     "end_time": "2025-05-02T23:09:33.643344Z",
     "start_time": "2025-05-02T23:09:31.685373Z"
    }
   },
   "outputs": [
    {
     "data": {
      "application/vnd.jupyter.widget-view+json": {
       "model_id": "3980d5c89e4545cf92f583070ae16cef",
       "version_major": 2,
       "version_minor": 0
      },
      "text/plain": [
       "tokenizer_config.json:   0%|          | 0.00/52.0 [00:00<?, ?B/s]"
      ]
     },
     "metadata": {},
     "output_type": "display_data"
    },
    {
     "data": {
      "application/vnd.jupyter.widget-view+json": {
       "model_id": "414427e29df24674baee295e281ba227",
       "version_major": 2,
       "version_minor": 0
      },
      "text/plain": [
       "config.json:   0%|          | 0.00/579 [00:00<?, ?B/s]"
      ]
     },
     "metadata": {},
     "output_type": "display_data"
    },
    {
     "name": "stderr",
     "output_type": "stream",
     "text": [
      "Xet Storage is enabled for this repo, but the 'hf_xet' package is not installed. Falling back to regular HTTP download. For better performance, install the package with: `pip install huggingface_hub[hf_xet]` or `pip install hf_xet`\n"
     ]
    },
    {
     "data": {
      "application/vnd.jupyter.widget-view+json": {
       "model_id": "25d3a94f9d564b3494dc291c13a7dd17",
       "version_major": 2,
       "version_minor": 0
      },
      "text/plain": [
       "spm.model:   0%|          | 0.00/4.31M [00:00<?, ?B/s]"
      ]
     },
     "metadata": {},
     "output_type": "display_data"
    },
    {
     "name": "stderr",
     "output_type": "stream",
     "text": [
      "/venv/main/lib/python3.10/site-packages/transformers/convert_slow_tokenizer.py:559: UserWarning: The sentencepiece tokenizer that you are converting to a fast tokenizer uses the byte fallback option which is not implemented in the fast tokenizers. In practice this means that the fast version of the tokenizer can produce unknown tokens whereas the sentencepiece version would have converted these unknown tokens into a sequence of byte tokens matching the original piece of text.\n",
      "  warnings.warn(\n"
     ]
    }
   ],
   "source": [
    "import numpy as np\n",
    "from transformers import AutoTokenizer\n",
    "from src.datasets.neruk_dataset import NerUKDataset\n",
    "\n",
    "tok = AutoTokenizer.from_pretrained(\"microsoft/mdeberta-v3-base\")"
   ]
  },
  {
   "cell_type": "code",
   "execution_count": null,
   "id": "0253f3ae",
   "metadata": {
    "ExecuteTime": {
     "end_time": "2025-05-02T23:09:37.923719Z",
     "start_time": "2025-05-02T23:09:33.688739Z"
    }
   },
   "outputs": [
    {
     "name": "stderr",
     "output_type": "stream",
     "text": [
      "Tokenizing train split:   0%|          | 0/10980 [00:00<?, ? examples/s]Asking to truncate to max_length but no maximum length is provided and the model has no predefined maximum length. Default to no truncation.\n",
      "Tokenizing train split: 100%|██████████| 10980/10980 [00:00<00:00, 24959.09 examples/s]\n",
      "Tokenizing validation split: 100%|██████████| 1206/1206 [00:00<00:00, 15258.87 examples/s]\n",
      "Tokenizing test split: 100%|██████████| 5593/5593 [00:00<00:00, 27752.66 examples/s]\n"
     ]
    }
   ],
   "source": [
    "ds = NerUKDataset(\n",
    "    tokenizer=tok,\n",
    "    dataset_name='Goader/ner-uk-2.0'\n",
    ")"
   ]
  },
  {
   "cell_type": "code",
   "execution_count": 11,
   "id": "809958ed",
   "metadata": {
    "ExecuteTime": {
     "end_time": "2025-05-02T23:10:01.617649Z",
     "start_time": "2025-05-02T23:10:01.612922Z"
    }
   },
   "outputs": [
    {
     "data": {
      "text/plain": [
       "dict_keys(['document_id', 'tokens', 'ner_tags', 'source', 'input_ids', 'token_type_ids', 'attention_mask', 'labels', 'word_ids'])"
      ]
     },
     "execution_count": 11,
     "metadata": {},
     "output_type": "execute_result"
    }
   ],
   "source": [
    "sample = ds.train[23]\n",
    "\n",
    "sample.keys()"
   ]
  },
  {
   "cell_type": "code",
   "execution_count": 12,
   "id": "f1c9e11a",
   "metadata": {
    "ExecuteTime": {
     "end_time": "2025-05-02T23:10:02.047375Z",
     "start_time": "2025-05-02T23:10:02.044435Z"
    }
   },
   "outputs": [
    {
     "name": "stdout",
     "output_type": "stream",
     "text": [
      "Tokens (47): ['Охопивши', 'основні', 'сфери', 'знання', ',', 'де', 'відбувся', 'значний', 'поступ', 'упродовж', '20', 'ст', '.', ',', 'Лянґе', 'припустив', ',', 'що', 'появу', 'навіть', 'таких', 'речей', ',', 'як', 'стільниковий', \"зв'язок\", 'та', 'Інтернет', ',', 'соціальні', 'мережі', 'та', 'загальне', '«', 'пришвидшення', '»', 'світу', ',', 'було', 'опосередковано', 'спричинено', '«', 'Адамовим', 'яблуком', '»', 'Штукенгайзена', '.']\n",
      "Tags (47): tensor([ 0,  0,  0,  0,  0,  0,  0,  0,  0,  0, 15, 16, 16,  0,  3,  0,  0,  0,\n",
      "         0,  0,  0,  0,  0,  0,  0,  0,  0, 25,  0,  0,  0,  0,  0,  0,  0,  0,\n",
      "         0,  0,  0,  0,  0,  0, 23, 24,  0,  3,  0])\n"
     ]
    }
   ],
   "source": [
    "print(f\"Tokens ({len(sample['tokens'])}): {sample['tokens']}\")\n",
    "print(f\"Tags ({len(sample['ner_tags'])}): {sample['ner_tags']}\")\n",
    "# print(sample['ner_tags_str'])"
   ]
  },
  {
   "cell_type": "code",
   "execution_count": 13,
   "id": "80adb5f8",
   "metadata": {
    "ExecuteTime": {
     "end_time": "2025-05-02T23:10:07.634791Z",
     "start_time": "2025-05-02T23:10:07.630304Z"
    }
   },
   "outputs": [
    {
     "name": "stdout",
     "output_type": "stream",
     "text": [
      "Tokens (101): tensor([     1,    984, 105452,  65480,   3744,   1776,  20660,    280,   4779,\n",
      "          8672,    260,    262,   2699,  64166,    355,  10578,  10993,   1765,\n",
      "         23637, 191303, 208986,    629,  11034,    260,    261,    260,    262,\n",
      "          5176,   6630,  31429,    325,    806, 115603,   1317,    260,    262,\n",
      "          1497,  13676,    355,   8904,  17072,    923,    778,  17017,   1012,\n",
      "           260,    262,   1159,    260,  66093, 229465,   1009,  24534,    278,\n",
      "           397, 130585,   1008, 144974,    260,    262,  51244,    390,    260,\n",
      "         68744,    390,   1008,  73711,    325,    405,    806, 153123,  14221,\n",
      "           619,  20271,    355,    260,    262,    260,  14405,   9994, 128766,\n",
      "        228990,    389, 178525,   5959,    405,  62014,  55020,    260, 152076,\n",
      "           355,   3952,    619,   3762,   3331,  12374,  25891, 199638,    260,\n",
      "           261,      2])\n",
      "Tags (101): tensor([-100,    0,    0,    0,    0,    0,    0,    0,    0,    0,    0,    0,\n",
      "           0,    0,    0,    0,    0,    0,    0,    0,    0,   15,   16,   16,\n",
      "          16,    0,    0,    3,    4,    4,    4,    0,    0,    0,    0,    0,\n",
      "           0,    0,    0,    0,    0,    0,    0,    0,    0,    0,    0,    0,\n",
      "           0,    0,    0,    0,    0,    0,    0,    0,    0,   25,    0,    0,\n",
      "           0,    0,    0,    0,    0,    0,    0,    0,    0,    0,    0,    0,\n",
      "           0,    0,    0,    0,    0,    0,    0,    0,    0,    0,    0,    0,\n",
      "           0,    0,   23,   24,   24,   24,   24,   24,    0,    3,    4,    4,\n",
      "           4,    4,    0,    0, -100])\n"
     ]
    }
   ],
   "source": [
    "print(f\"Tokens ({len(sample['input_ids'])}): {sample['input_ids']}\")\n",
    "print(f\"Tags ({len(sample['labels'])}): {sample['labels']}\")"
   ]
  },
  {
   "cell_type": "code",
   "execution_count": 14,
   "id": "fb76cc85fde807e9",
   "metadata": {
    "ExecuteTime": {
     "end_time": "2025-05-02T23:10:21.397967Z",
     "start_time": "2025-05-02T23:10:21.391718Z"
    }
   },
   "outputs": [
    {
     "data": {
      "text/plain": [
       "tensor([ 0,  0,  0,  0,  0,  0,  0,  0,  0,  0, 15, 16, 16,  0,  3,  0,  0,  0,\n",
       "         0,  0,  0,  0,  0,  0,  0,  0,  0, 25,  0,  0,  0,  0,  0,  0,  0,  0,\n",
       "         0,  0,  0,  0,  0,  0, 23, 24,  0,  3,  0])"
      ]
     },
     "execution_count": 14,
     "metadata": {},
     "output_type": "execute_result"
    }
   ],
   "source": [
    "mama = ds.align_tokens_with_labels(\n",
    "    token_predictions=sample['labels'],\n",
    "    word_ids=sample['word_ids'],\n",
    ")\n",
    "\n",
    "mama"
   ]
  },
  {
   "cell_type": "code",
   "execution_count": 16,
   "id": "7a62907b0ed8a80f",
   "metadata": {
    "ExecuteTime": {
     "end_time": "2025-05-02T23:10:33.337801Z",
     "start_time": "2025-05-02T23:10:33.332348Z"
    }
   },
   "outputs": [
    {
     "data": {
      "text/plain": [
       "tensor([ 0,  0,  0,  0,  0,  0,  0,  0,  0,  0, 15, 16, 16,  0,  3,  0,  0,  0,\n",
       "         0,  0,  0,  0,  0,  0,  0,  0,  0, 25,  0,  0,  0,  0,  0,  0,  0,  0,\n",
       "         0,  0,  0,  0,  0,  0, 23, 24,  0,  3,  0])"
      ]
     },
     "execution_count": 16,
     "metadata": {},
     "output_type": "execute_result"
    }
   ],
   "source": [
    "sample['ner_tags']"
   ]
  }
 ],
 "metadata": {
  "kernelspec": {
   "display_name": "Python3 (ipykernel)",
   "language": "python",
   "name": "python3"
  }
 },
 "nbformat": 4,
 "nbformat_minor": 5
}
