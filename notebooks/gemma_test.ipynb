{
 "cells": [
  {
   "cell_type": "code",
   "execution_count": 1,
   "id": "22cf7074-8f48-4159-81e4-1adbbaed901a",
   "metadata": {},
   "outputs": [],
   "source": [
    "from src.models.gemma3 import biGemma3ForMaskedLM, biGemma3ForMaskedNTP, biGemma3ForTokenClassification, Gemma3ForCausalLM\n",
    "from transformers import AutoModelForMaskedLM, AutoModelForCausalLM, AutoTokenizer\n",
    "\n",
    "from torch.utils.data import DataLoader\n",
    "from datasets import load_dataset\n",
    "\n",
    "from transformers import AutoModelForTokenClassification, BitsAndBytesConfig\n",
    "from peft import prepare_model_for_kbit_training, get_peft_model, LoraConfig, TaskType\n",
    "\n",
    "import torch\n",
    "import numpy as np\n",
    "\n",
    "from matplotlib import pyplot as plt"
   ]
  },
  {
   "cell_type": "code",
   "execution_count": 2,
   "id": "b567f990-a9e1-4792-8774-30cdf6d2f191",
   "metadata": {},
   "outputs": [],
   "source": [
    "PRETRAINED_MODEL = \"microsoft/mdeberta-v3-base\"\n",
    "# PRETRAINED_MODEL = \"google/gemma-3-1b-pt\""
   ]
  },
  {
   "cell_type": "code",
   "execution_count": 3,
   "id": "fc6f45fc-d84e-4cf1-9b2a-ddeae693a0d9",
   "metadata": {},
   "outputs": [
    {
     "data": {
      "application/vnd.jupyter.widget-view+json": {
       "model_id": "6021579bd95a4eb2a10221c885432eba",
       "version_major": 2,
       "version_minor": 0
      },
      "text/plain": [
       "tokenizer_config.json:   0%|          | 0.00/52.0 [00:00<?, ?B/s]"
      ]
     },
     "metadata": {},
     "output_type": "display_data"
    },
    {
     "data": {
      "application/vnd.jupyter.widget-view+json": {
       "model_id": "a9b1b74fb0194ee0b5b103a74fe1778a",
       "version_major": 2,
       "version_minor": 0
      },
      "text/plain": [
       "config.json:   0%|          | 0.00/579 [00:00<?, ?B/s]"
      ]
     },
     "metadata": {},
     "output_type": "display_data"
    },
    {
     "name": "stderr",
     "output_type": "stream",
     "text": [
      "Xet Storage is enabled for this repo, but the 'hf_xet' package is not installed. Falling back to regular HTTP download. For better performance, install the package with: `pip install huggingface_hub[hf_xet]` or `pip install hf_xet`\n"
     ]
    },
    {
     "data": {
      "application/vnd.jupyter.widget-view+json": {
       "model_id": "f00f97c038aa417cae89668a297737bb",
       "version_major": 2,
       "version_minor": 0
      },
      "text/plain": [
       "spm.model:   0%|          | 0.00/4.31M [00:00<?, ?B/s]"
      ]
     },
     "metadata": {},
     "output_type": "display_data"
    },
    {
     "name": "stderr",
     "output_type": "stream",
     "text": [
      "/venv/main/lib/python3.10/site-packages/transformers/convert_slow_tokenizer.py:559: UserWarning: The sentencepiece tokenizer that you are converting to a fast tokenizer uses the byte fallback option which is not implemented in the fast tokenizers. In practice this means that the fast version of the tokenizer can produce unknown tokens whereas the sentencepiece version would have converted these unknown tokens into a sequence of byte tokens matching the original piece of text.\n",
      "  warnings.warn(\n",
      "Xet Storage is enabled for this repo, but the 'hf_xet' package is not installed. Falling back to regular HTTP download. For better performance, install the package with: `pip install huggingface_hub[hf_xet]` or `pip install hf_xet`\n"
     ]
    },
    {
     "data": {
      "application/vnd.jupyter.widget-view+json": {
       "model_id": "e793c79810614f5e962c6d5d32eb7305",
       "version_major": 2,
       "version_minor": 0
      },
      "text/plain": [
       "pytorch_model.bin:   0%|          | 0.00/1.33G [00:00<?, ?B/s]"
      ]
     },
     "metadata": {},
     "output_type": "display_data"
    },
    {
     "name": "stderr",
     "output_type": "stream",
     "text": [
      "Xet Storage is enabled for this repo, but the 'hf_xet' package is not installed. Falling back to regular HTTP download. For better performance, install the package with: `pip install huggingface_hub[hf_xet]` or `pip install hf_xet`\n"
     ]
    },
    {
     "data": {
      "application/vnd.jupyter.widget-view+json": {
       "model_id": "e5884d413e3c4ac88ec66ecc2fda319d",
       "version_major": 2,
       "version_minor": 0
      },
      "text/plain": [
       "model.safetensors:   0%|          | 0.00/1.33G [00:00<?, ?B/s]"
      ]
     },
     "metadata": {},
     "output_type": "display_data"
    },
    {
     "name": "stderr",
     "output_type": "stream",
     "text": [
      "Some weights of DebertaV2ForMaskedLM were not initialized from the model checkpoint at microsoft/mdeberta-v3-base and are newly initialized: ['cls.predictions.bias', 'cls.predictions.decoder.bias', 'cls.predictions.transform.LayerNorm.bias', 'cls.predictions.transform.LayerNorm.weight', 'cls.predictions.transform.dense.bias', 'cls.predictions.transform.dense.weight']\n",
      "You should probably TRAIN this model on a down-stream task to be able to use it for predictions and inference.\n"
     ]
    },
    {
     "data": {
      "text/plain": [
       "DebertaV2ForMaskedLM(\n",
       "  (deberta): DebertaV2Model(\n",
       "    (embeddings): DebertaV2Embeddings(\n",
       "      (word_embeddings): Embedding(251000, 768, padding_idx=0)\n",
       "      (LayerNorm): LayerNorm((768,), eps=1e-07, elementwise_affine=True)\n",
       "      (dropout): Dropout(p=0.1, inplace=False)\n",
       "    )\n",
       "    (encoder): DebertaV2Encoder(\n",
       "      (layer): ModuleList(\n",
       "        (0-11): 12 x DebertaV2Layer(\n",
       "          (attention): DebertaV2Attention(\n",
       "            (self): DisentangledSelfAttention(\n",
       "              (query_proj): Linear(in_features=768, out_features=768, bias=True)\n",
       "              (key_proj): Linear(in_features=768, out_features=768, bias=True)\n",
       "              (value_proj): Linear(in_features=768, out_features=768, bias=True)\n",
       "              (pos_dropout): Dropout(p=0.1, inplace=False)\n",
       "              (dropout): Dropout(p=0.1, inplace=False)\n",
       "            )\n",
       "            (output): DebertaV2SelfOutput(\n",
       "              (dense): Linear(in_features=768, out_features=768, bias=True)\n",
       "              (LayerNorm): LayerNorm((768,), eps=1e-07, elementwise_affine=True)\n",
       "              (dropout): Dropout(p=0.1, inplace=False)\n",
       "            )\n",
       "          )\n",
       "          (intermediate): DebertaV2Intermediate(\n",
       "            (dense): Linear(in_features=768, out_features=3072, bias=True)\n",
       "            (intermediate_act_fn): GELUActivation()\n",
       "          )\n",
       "          (output): DebertaV2Output(\n",
       "            (dense): Linear(in_features=3072, out_features=768, bias=True)\n",
       "            (LayerNorm): LayerNorm((768,), eps=1e-07, elementwise_affine=True)\n",
       "            (dropout): Dropout(p=0.1, inplace=False)\n",
       "          )\n",
       "        )\n",
       "      )\n",
       "      (rel_embeddings): Embedding(512, 768)\n",
       "      (LayerNorm): LayerNorm((768,), eps=1e-07, elementwise_affine=True)\n",
       "    )\n",
       "  )\n",
       "  (cls): LegacyDebertaV2OnlyMLMHead(\n",
       "    (predictions): LegacyDebertaV2LMPredictionHead(\n",
       "      (transform): LegacyDebertaV2PredictionHeadTransform(\n",
       "        (dense): Linear(in_features=768, out_features=768, bias=True)\n",
       "        (transform_act_fn): GELUActivation()\n",
       "        (LayerNorm): LayerNorm((768,), eps=1e-07, elementwise_affine=True)\n",
       "      )\n",
       "      (decoder): Linear(in_features=768, out_features=251000, bias=True)\n",
       "    )\n",
       "  )\n",
       ")"
      ]
     },
     "execution_count": 3,
     "metadata": {},
     "output_type": "execute_result"
    }
   ],
   "source": [
    "tokenizer = AutoTokenizer.from_pretrained(PRETRAINED_MODEL)\n",
    "\n",
    "model = AutoModelForMaskedLM.from_pretrained(\n",
    "    PRETRAINED_MODEL,\n",
    "    return_dict_in_generate=True,\n",
    "    output_attentions=True\n",
    ").eval()\n",
    "\n",
    "model.cuda()\n"
   ]
  },
  {
   "cell_type": "code",
   "execution_count": 4,
   "id": "af4d0d19-a251-4705-959b-a39a319c6795",
   "metadata": {},
   "outputs": [],
   "source": [
    "ds_eval   = load_dataset(\"wikitext\", \"wikitext-2-raw-v1\", split=\"validation\")\n",
    "\n",
    "\n",
    "def collate(examples):\n",
    "    enc = tokenizer(\n",
    "        [ex[\"text\"] for ex in examples],\n",
    "        padding=\"longest\",\n",
    "        truncation=True,\n",
    "        return_tensors=\"pt\",\n",
    "        max_length=128,\n",
    "    )\n",
    "    return {k: v.cuda() for k, v in enc.items()}\n",
    "\n",
    "\n",
    "loader = DataLoader(ds_eval, batch_size=8, collate_fn=collate)"
   ]
  },
  {
   "cell_type": "code",
   "execution_count": 5,
   "id": "f85463c9-6dea-45e4-9c3d-2b40db89aa5c",
   "metadata": {},
   "outputs": [],
   "source": [
    "for batch in loader:\n",
    "    break"
   ]
  },
  {
   "cell_type": "code",
   "execution_count": 6,
   "id": "9e6fd3ea-17b1-4411-8707-dba60d4fa70b",
   "metadata": {},
   "outputs": [
    {
     "data": {
      "text/plain": [
       "{'input_ids': tensor([[     1,      2,      0,  ...,      0,      0,      0],\n",
       "         [     1,    260,    350,  ...,      0,      0,      0],\n",
       "         [     1,      2,      0,  ...,      0,      0,      0],\n",
       "         ...,\n",
       "         [     1,    260,    350,  ...,      0,      0,      0],\n",
       "         [     1,      2,      0,  ...,      0,      0,      0],\n",
       "         [     1,  40350, 196109,  ...,    260,    263,      2]],\n",
       "        device='cuda:0'),\n",
       " 'token_type_ids': tensor([[0, 0, 0,  ..., 0, 0, 0],\n",
       "         [0, 0, 0,  ..., 0, 0, 0],\n",
       "         [0, 0, 0,  ..., 0, 0, 0],\n",
       "         ...,\n",
       "         [0, 0, 0,  ..., 0, 0, 0],\n",
       "         [0, 0, 0,  ..., 0, 0, 0],\n",
       "         [0, 0, 0,  ..., 0, 0, 0]], device='cuda:0'),\n",
       " 'attention_mask': tensor([[1, 1, 0,  ..., 0, 0, 0],\n",
       "         [1, 1, 1,  ..., 0, 0, 0],\n",
       "         [1, 1, 0,  ..., 0, 0, 0],\n",
       "         ...,\n",
       "         [1, 1, 1,  ..., 0, 0, 0],\n",
       "         [1, 1, 0,  ..., 0, 0, 0],\n",
       "         [1, 1, 1,  ..., 1, 1, 1]], device='cuda:0')}"
      ]
     },
     "execution_count": 6,
     "metadata": {},
     "output_type": "execute_result"
    }
   ],
   "source": [
    "batch"
   ]
  },
  {
   "cell_type": "code",
   "execution_count": 7,
   "id": "877fdc25-1847-4cc1-968a-d03c09279959",
   "metadata": {},
   "outputs": [],
   "source": [
    "with torch.no_grad():\n",
    "    out = model(**batch)"
   ]
  },
  {
   "cell_type": "code",
   "execution_count": 8,
   "id": "584d87f0-bb39-4186-a27d-7c080ce78427",
   "metadata": {},
   "outputs": [
    {
     "data": {
      "text/plain": [
       "DebertaV2ForMaskedLM(\n",
       "  (deberta): DebertaV2Model(\n",
       "    (embeddings): DebertaV2Embeddings(\n",
       "      (word_embeddings): Embedding(251000, 768, padding_idx=0)\n",
       "      (LayerNorm): LayerNorm((768,), eps=1e-07, elementwise_affine=True)\n",
       "      (dropout): Dropout(p=0.1, inplace=False)\n",
       "    )\n",
       "    (encoder): DebertaV2Encoder(\n",
       "      (layer): ModuleList(\n",
       "        (0-11): 12 x DebertaV2Layer(\n",
       "          (attention): DebertaV2Attention(\n",
       "            (self): DisentangledSelfAttention(\n",
       "              (query_proj): Linear(in_features=768, out_features=768, bias=True)\n",
       "              (key_proj): Linear(in_features=768, out_features=768, bias=True)\n",
       "              (value_proj): Linear(in_features=768, out_features=768, bias=True)\n",
       "              (pos_dropout): Dropout(p=0.1, inplace=False)\n",
       "              (dropout): Dropout(p=0.1, inplace=False)\n",
       "            )\n",
       "            (output): DebertaV2SelfOutput(\n",
       "              (dense): Linear(in_features=768, out_features=768, bias=True)\n",
       "              (LayerNorm): LayerNorm((768,), eps=1e-07, elementwise_affine=True)\n",
       "              (dropout): Dropout(p=0.1, inplace=False)\n",
       "            )\n",
       "          )\n",
       "          (intermediate): DebertaV2Intermediate(\n",
       "            (dense): Linear(in_features=768, out_features=3072, bias=True)\n",
       "            (intermediate_act_fn): GELUActivation()\n",
       "          )\n",
       "          (output): DebertaV2Output(\n",
       "            (dense): Linear(in_features=3072, out_features=768, bias=True)\n",
       "            (LayerNorm): LayerNorm((768,), eps=1e-07, elementwise_affine=True)\n",
       "            (dropout): Dropout(p=0.1, inplace=False)\n",
       "          )\n",
       "        )\n",
       "      )\n",
       "      (rel_embeddings): Embedding(512, 768)\n",
       "      (LayerNorm): LayerNorm((768,), eps=1e-07, elementwise_affine=True)\n",
       "    )\n",
       "  )\n",
       "  (cls): LegacyDebertaV2OnlyMLMHead(\n",
       "    (predictions): LegacyDebertaV2LMPredictionHead(\n",
       "      (transform): LegacyDebertaV2PredictionHeadTransform(\n",
       "        (dense): Linear(in_features=768, out_features=768, bias=True)\n",
       "        (transform_act_fn): GELUActivation()\n",
       "        (LayerNorm): LayerNorm((768,), eps=1e-07, elementwise_affine=True)\n",
       "      )\n",
       "      (decoder): Linear(in_features=768, out_features=251000, bias=True)\n",
       "    )\n",
       "  )\n",
       ")"
      ]
     },
     "execution_count": 8,
     "metadata": {},
     "output_type": "execute_result"
    }
   ],
   "source": [
    "model"
   ]
  },
  {
   "cell_type": "code",
   "execution_count": 23,
   "id": "82e5d738-4629-4553-aa05-24e61686aa9f",
   "metadata": {},
   "outputs": [
    {
     "data": {
      "text/plain": [
       "tensor([[3.8458e-01, 2.9414e-01, 2.5843e-02,  ..., 4.1201e-03, 4.1165e-02,\n",
       "         2.6374e-01],\n",
       "        [2.5869e-01, 6.0872e-04, 6.2921e-01,  ..., 6.7735e-03, 1.8833e-02,\n",
       "         4.6534e-01],\n",
       "        [3.8938e-01, 3.5558e-01, 1.7750e-03,  ..., 6.8543e-03, 3.0341e-02,\n",
       "         2.9033e-01],\n",
       "        ...,\n",
       "        [3.7046e-01, 1.9581e-03, 6.1888e-03,  ..., 7.5393e-04, 2.9197e-01,\n",
       "         5.7826e-01],\n",
       "        [3.8789e-01, 1.5025e-03, 1.7122e-03,  ..., 9.5486e-02, 7.7430e-02,\n",
       "         2.9749e-01],\n",
       "        [2.6198e-01, 2.5401e-03, 4.3379e-03,  ..., 3.5724e-02, 9.1126e-01,\n",
       "         3.6164e-01]], device='cuda:0')"
      ]
     },
     "execution_count": 23,
     "metadata": {},
     "output_type": "execute_result"
    }
   ],
   "source": [
    "out.attentions[0][3].max(dim=0).values.cpu()"
   ]
  },
  {
   "cell_type": "code",
   "execution_count": 26,
   "id": "e4ec11ea-2db1-42d1-8efd-215bd1c7205c",
   "metadata": {},
   "outputs": [
    {
     "data": {
      "text/plain": [
       "<matplotlib.image.AxesImage at 0x7f36a44b3490>"
      ]
     },
     "execution_count": 26,
     "metadata": {},
     "output_type": "execute_result"
    },
    {
     "data": {
      "image/png": "[encoded data removed]",
      "text/plain": [
       "<Figure size 288x288 with 1 Axes>"
      ]
     },
     "metadata": {
      "needs_background": "light"
     },
     "output_type": "display_data"
    }
   ],
   "source": [
    "plt.matshow(out.attentions[0][3].max(dim=0).values.cpu()[80:100, 80:100])"
   ]
  },
  {
   "cell_type": "code",
   "execution_count": 12,
   "id": "fb52c0d2-6291-4f1d-b369-399f34afbde3",
   "metadata": {},
   "outputs": [],
   "source": [
    "import torch\n",
    "\n",
    "def uter_per_layer(attentions: tuple[torch.Tensor]) -> list[float]:\n",
    "    \"\"\"\n",
    "    attentions : tuple(L tensors)  each (B, H, S, S) – soft-maxed weights\n",
    "    returns    : [uter_L0, uter_L1, …]    averaged over batch & heads\n",
    "    \"\"\"\n",
    "    uters = []\n",
    "    for A in attentions:                    # loop over layers\n",
    "        # A: (B, H, S, S)\n",
    "        tri_u     = torch.triu(A, diagonal=1)   # strictly upper-triangle\n",
    "        num       = (tri_u**2).sum(dim=(-1, -2))    # (B, H)\n",
    "        denom     = (A**2).sum(dim=(-1, -2))        # (B, H)\n",
    "\n",
    "        return tri_u, num\n",
    "\n",
    "    #     uters.append(num.mean())\n",
    "    #     # layer_avg = (num / (denom + 1e-9)).mean()   # scalar\n",
    "    #     # uters.append(layer_avg.item())\n",
    "    # return uters"
   ]
  },
  {
   "cell_type": "code",
   "execution_count": 13,
   "id": "0b060524-6cc9-4b45-8589-419f99e5541c",
   "metadata": {},
   "outputs": [
    {
     "name": "stdout",
     "output_type": "stream",
     "text": [
      "Mean UTER (pad-aware): 0.296\n",
      "Layer 00  UTER = 0.424\n",
      "Layer 01  UTER = 0.236\n",
      "Layer 02  UTER = 0.262\n",
      "Layer 03  UTER = 0.336\n",
      "Layer 04  UTER = 0.301\n",
      "Layer 05  UTER = 0.234\n",
      "Layer 06  UTER = 0.304\n",
      "Layer 07  UTER = 0.220\n",
      "Layer 08  UTER = 0.233\n",
      "Layer 09  UTER = 0.191\n",
      "Layer 10  UTER = 0.319\n",
      "Layer 11  UTER = 0.492\n",
      "Global average: 0.296\n"
     ]
    }
   ],
   "source": [
    "with torch.no_grad():\n",
    "    out = model(**batch)                     # attentions inside `out`\n",
    "uters = uter_per_layer(out.attentions, batch[\"attention_mask\"])\n",
    "\n",
    "print(f\"Mean UTER (pad-aware): {sum(uters)/len(uters):.3f}\")\n",
    "\n",
    "# Nicely print layer-wise values\n",
    "for i, u in enumerate(uters):\n",
    "    print(f\"Layer {i:02d}  UTER = {u:.3f}\")\n",
    "print(f\"Global average: {sum(uters)/len(uters):.3f}\")"
   ]
  },
  {
   "cell_type": "code",
   "execution_count": null,
   "id": "cdcf60eb-6a51-4202-9c1d-89597fe585dc",
   "metadata": {},
   "outputs": [],
   "source": []
  }
 ],
 "metadata": {
  "kernelspec": {
   "display_name": "Python3 (main venv)",
   "language": "python",
   "name": "main"
  },
  "language_info": {
   "codemirror_mode": {
    "name": "ipython",
    "version": 3
   },
   "file_extension": ".py",
   "mimetype": "text/x-python",
   "name": "python",
   "nbconvert_exporter": "python",
   "pygments_lexer": "ipython3",
   "version": "3.10.12"
  }
 },
 "nbformat": 4,
 "nbformat_minor": 5
}
